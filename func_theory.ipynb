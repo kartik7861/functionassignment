{
 "cells": [
  {
   "cell_type": "code",
   "execution_count": null,
   "metadata": {},
   "outputs": [],
   "source": [
    "#1. What is the difference between a function and a method in Python?\n",
    "#A function is a structured, reusable code block utilized for carrying out a specific task. Functions facilitate the creation of modular code, simplifying maintenance and reusability.\n",
    "#You define it using the def keyword and can call it from anywhere in your code.\n",
    "\n",
    "\n",
    "def first_fun(x):\n",
    "    return x * 2\n",
    "\n",
    "result = first_fun(5)  # Calling the function\n",
    "\n",
    "#A method is a function that is associated with an object. It is defined within a class \n",
    "#You call a method on an object using the dot notation.\n",
    "#methods are functions that belong to an object (an instance of a class)\n"
   ]
  },
  {
   "cell_type": "code",
   "execution_count": null,
   "metadata": {},
   "outputs": [],
   "source": [
    "#2.Explain the concept of function arguments and parameters in Python ?\n",
    "#Parameters are the variables listed in a function's definition. They act as placeholders for the values that will be passed to the function when it is called.\n",
    "#Arguments are the actual values you pass to the function when calling it. These values replace the parameters in the function.\n",
    "\n",
    "\n",
    "def add(x, y):         # x and y are parameters\n",
    "    return x + y\n",
    "\n",
    "result = add(3, 5)  # 3 and 5 are positional arguments\n"
   ]
  },
  {
   "cell_type": "code",
   "execution_count": null,
   "metadata": {},
   "outputs": [],
   "source": [
    "#3. what are the different ways to define and call a function in python ?\n",
    "\n",
    "#You can define a simple function using the def keyword and call it by its name.\n",
    "def greet():                                 #def keyword is used to define a function\n",
    "    print(\"Hello, World!\")                    # this is the block of code which will run on calling the function\n",
    "\n",
    "greet()  # Calling the function \n",
    "\n",
    "#function with parameter\n",
    "def greet(name=\"bijay\"):                                 # pre defined parameter which will execute if we dont define any parameter during calling of function.\n",
    "    print(f\"Hello, welcome to the team {name}!\")\n",
    "\n",
    "greet()          # Output: Hello,welcome to the team bijay!\n",
    "greet(\"Bob\")    # Output: Hello, welcome to the team Bob! \n",
    "\n",
    "\n",
    "#function with variable lenght arguments \n",
    "def add_numbers(*args):\n",
    "    return sum(args)\n",
    "\n",
    "print(add_numbers(4, 2, 3))  # Output: 9\n",
    " \n",
    "\n"
   ]
  },
  {
   "cell_type": "code",
   "execution_count": null,
   "metadata": {},
   "outputs": [],
   "source": [
    "# 4.what is the purpose of return statement in python function ?\n",
    "\n",
    "#The primary purpose of the return statement is to send a value back to the caller of the function.\n",
    "# return exits the function immediately. \n",
    "# Functions can return multiple values as tuples. "
   ]
  },
  {
   "cell_type": "code",
   "execution_count": null,
   "metadata": {},
   "outputs": [],
   "source": [
    "# 5. What are iterators in Python and how do they differ from iterables? \n",
    "\n",
    "# iterables are an object that can return its elements one at a time and can be used in a for loop directly.\n",
    "# examples list tuples string dictionary \n",
    "\n",
    "# iterator is an object that tracks its position in an iterable and can return the next element.\n",
    "# used to retrieve elements from the iterable one at a time. \n",
    "\n",
    "my_list = [13,\"ajay\", 59]\n",
    "for item in my_list:  # my_list is iterable\n",
    "    print(item)\n"
   ]
  },
  {
   "cell_type": "code",
   "execution_count": null,
   "metadata": {},
   "outputs": [],
   "source": [
    "# 6. Explain the concept of generators in Python and how they are defined \n",
    "\n",
    "# Generators are a simple way to create iterators using functions and the yield keyword instead of returning values.\n",
    "# we can define a generator just like a regular function, but instead of using return , yeild is used.\n",
    "# generators use minimal memory.\n",
    "# generators produce values one at a time and only when required, avoiding the need to generate or store all values upfromt \n",
    "\n",
    "\n",
    "def fibonacci():\n",
    "    a, b = 0, 1\n",
    "    while True:\n",
    "        yield a\n",
    "        a, b = b, a + b\n",
    "\n",
    "# Using the Fibonacci generator\n",
    "fib_gen = fibonacci()\n",
    "for _ in range(7):\n",
    "    print(next(fib_gen))\n",
    "\n",
    "# Output:\n",
    "# 0\n",
    "# 1\n",
    "# 1\n",
    "# 2\n",
    "# 3\n",
    "# 5\n",
    "# 8 \n"
   ]
  },
  {
   "cell_type": "code",
   "execution_count": null,
   "metadata": {},
   "outputs": [],
   "source": [
    "# 7. What are the advantages of using generators over regular functions?\n",
    "\n",
    "# Generators do not store the entire sequence in memory, making them suitable for large datasets or infinite sequences.\n",
    "# Using yield simplifies the creation of iterators, making the code more concise and readable.\n",
    "# Generators can represent infinite sequences without running into memory issues \n",
    "\n",
    "def infinite_numbers():     #generator function for infinite numbers \n",
    "    n = 1\n",
    "    while True:\n",
    "        yield n\n",
    "        n += 1\n"
   ]
  },
  {
   "cell_type": "code",
   "execution_count": null,
   "metadata": {},
   "outputs": [],
   "source": [
    "# 8. What is a lambda function in Python and when is it typically used?\n",
    "\n",
    "# lambda function is a small, anonymous function defined using the lambda keyword.\n",
    "# they can contain only one expression, which is evaluated and returned\n",
    "# lambda functions are not bound to a name.\n",
    "# lambda functions are efficient whenever you want to create a function that will only contain simple expressions >> expressions that are usually a single line of a statement.\n",
    "# they're also useful when you want to use the function once."
   ]
  },
  {
   "cell_type": "code",
   "execution_count": null,
   "metadata": {},
   "outputs": [],
   "source": [
    "# 9. What is a lambda function in Python and when is it typically used?\n",
    "\n",
    "# map function applies a given function to all items in an input iterable (like a list) and returns an iterator with the results.\n",
    "\n",
    "# map() is useful when you need to apply a transformation function to each item in an iterable and transform them into a new iterable\n",
    "\n",
    "numbers = [1, 2, 3, 4]\n",
    "sq_no = map(lambda x: x ** 2, numbers)\n",
    "\n",
    "# Convert the map object to a list\n",
    "print(list(sq_no))  # Output: [1, 4, 9, 16]\n"
   ]
  },
  {
   "cell_type": "code",
   "execution_count": null,
   "metadata": {},
   "outputs": [],
   "source": [
    "#10. What is the difference between map(), reduce(), and filter() functions in Python?\n",
    "\n",
    "\n",
    "#Feature             \tmap()\t                     filter()\t                                       reduce()\n",
    "#Purpose\t      Transform items\t             Filter items based on condition\t               Reduce items to a single value\n",
    "#Return Type\t  Iterator (map object)\t         Iterator (filter object)\t                       Single value\n",
    "#Function Type\t  Takes one function\t         Takes one function\t                               Takes one function with two arguments\n",
    "#Output Type\t  Each item transformed\t         Items that meet the condition\t                   Cumulative result"
   ]
  }
 ],
 "metadata": {
  "language_info": {
   "name": "python"
  },
  "orig_nbformat": 4
 },
 "nbformat": 4,
 "nbformat_minor": 2
}
